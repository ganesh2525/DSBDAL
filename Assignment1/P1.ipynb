{
 "cells": [
  {
   "cell_type": "code",
   "execution_count": 1,
   "id": "5e7f82fd-cb7e-4e43-a936-8df9a3009b09",
   "metadata": {},
   "outputs": [],
   "source": [
    "import numpy as np\n",
    "import pandas as pd"
   ]
  },
  {
   "cell_type": "code",
   "execution_count": 2,
   "id": "0101fe27-5f50-4e12-bbbb-a1e775fff4d4",
   "metadata": {},
   "outputs": [],
   "source": [
    "df = pd.read_csv(\"student_performance_2.csv\")"
   ]
  },
  {
   "cell_type": "code",
   "execution_count": 3,
   "id": "312b03c1-188f-45c5-834e-a3e94fc54ee8",
   "metadata": {},
   "outputs": [
    {
     "data": {
      "text/html": [
       "<div>\n",
       "<style scoped>\n",
       "    .dataframe tbody tr th:only-of-type {\n",
       "        vertical-align: middle;\n",
       "    }\n",
       "\n",
       "    .dataframe tbody tr th {\n",
       "        vertical-align: top;\n",
       "    }\n",
       "\n",
       "    .dataframe thead th {\n",
       "        text-align: right;\n",
       "    }\n",
       "</style>\n",
       "<table border=\"1\" class=\"dataframe\">\n",
       "  <thead>\n",
       "    <tr style=\"text-align: right;\">\n",
       "      <th></th>\n",
       "      <th>Student ID</th>\n",
       "      <th>Gender</th>\n",
       "      <th>Age</th>\n",
       "      <th>School</th>\n",
       "      <th>Math Score</th>\n",
       "      <th>Reading Score</th>\n",
       "      <th>Writing Score</th>\n",
       "      <th>Class Performance</th>\n",
       "    </tr>\n",
       "  </thead>\n",
       "  <tbody>\n",
       "    <tr>\n",
       "      <th>0</th>\n",
       "      <td>False</td>\n",
       "      <td>False</td>\n",
       "      <td>False</td>\n",
       "      <td>False</td>\n",
       "      <td>False</td>\n",
       "      <td>False</td>\n",
       "      <td>False</td>\n",
       "      <td>False</td>\n",
       "    </tr>\n",
       "    <tr>\n",
       "      <th>1</th>\n",
       "      <td>False</td>\n",
       "      <td>False</td>\n",
       "      <td>False</td>\n",
       "      <td>False</td>\n",
       "      <td>False</td>\n",
       "      <td>False</td>\n",
       "      <td>False</td>\n",
       "      <td>False</td>\n",
       "    </tr>\n",
       "    <tr>\n",
       "      <th>2</th>\n",
       "      <td>False</td>\n",
       "      <td>False</td>\n",
       "      <td>False</td>\n",
       "      <td>False</td>\n",
       "      <td>False</td>\n",
       "      <td>False</td>\n",
       "      <td>False</td>\n",
       "      <td>False</td>\n",
       "    </tr>\n",
       "    <tr>\n",
       "      <th>3</th>\n",
       "      <td>False</td>\n",
       "      <td>False</td>\n",
       "      <td>False</td>\n",
       "      <td>False</td>\n",
       "      <td>False</td>\n",
       "      <td>False</td>\n",
       "      <td>False</td>\n",
       "      <td>False</td>\n",
       "    </tr>\n",
       "    <tr>\n",
       "      <th>4</th>\n",
       "      <td>False</td>\n",
       "      <td>False</td>\n",
       "      <td>False</td>\n",
       "      <td>False</td>\n",
       "      <td>False</td>\n",
       "      <td>False</td>\n",
       "      <td>False</td>\n",
       "      <td>False</td>\n",
       "    </tr>\n",
       "    <tr>\n",
       "      <th>...</th>\n",
       "      <td>...</td>\n",
       "      <td>...</td>\n",
       "      <td>...</td>\n",
       "      <td>...</td>\n",
       "      <td>...</td>\n",
       "      <td>...</td>\n",
       "      <td>...</td>\n",
       "      <td>...</td>\n",
       "    </tr>\n",
       "    <tr>\n",
       "      <th>6995</th>\n",
       "      <td>False</td>\n",
       "      <td>False</td>\n",
       "      <td>False</td>\n",
       "      <td>False</td>\n",
       "      <td>False</td>\n",
       "      <td>False</td>\n",
       "      <td>False</td>\n",
       "      <td>False</td>\n",
       "    </tr>\n",
       "    <tr>\n",
       "      <th>6996</th>\n",
       "      <td>False</td>\n",
       "      <td>False</td>\n",
       "      <td>False</td>\n",
       "      <td>False</td>\n",
       "      <td>False</td>\n",
       "      <td>False</td>\n",
       "      <td>False</td>\n",
       "      <td>False</td>\n",
       "    </tr>\n",
       "    <tr>\n",
       "      <th>6997</th>\n",
       "      <td>False</td>\n",
       "      <td>False</td>\n",
       "      <td>False</td>\n",
       "      <td>False</td>\n",
       "      <td>False</td>\n",
       "      <td>False</td>\n",
       "      <td>False</td>\n",
       "      <td>False</td>\n",
       "    </tr>\n",
       "    <tr>\n",
       "      <th>6998</th>\n",
       "      <td>False</td>\n",
       "      <td>False</td>\n",
       "      <td>False</td>\n",
       "      <td>False</td>\n",
       "      <td>False</td>\n",
       "      <td>False</td>\n",
       "      <td>False</td>\n",
       "      <td>False</td>\n",
       "    </tr>\n",
       "    <tr>\n",
       "      <th>6999</th>\n",
       "      <td>False</td>\n",
       "      <td>False</td>\n",
       "      <td>False</td>\n",
       "      <td>False</td>\n",
       "      <td>False</td>\n",
       "      <td>False</td>\n",
       "      <td>False</td>\n",
       "      <td>False</td>\n",
       "    </tr>\n",
       "  </tbody>\n",
       "</table>\n",
       "<p>7000 rows × 8 columns</p>\n",
       "</div>"
      ],
      "text/plain": [
       "      Student ID  Gender    Age  School  Math Score  Reading Score  \\\n",
       "0          False   False  False   False       False          False   \n",
       "1          False   False  False   False       False          False   \n",
       "2          False   False  False   False       False          False   \n",
       "3          False   False  False   False       False          False   \n",
       "4          False   False  False   False       False          False   \n",
       "...          ...     ...    ...     ...         ...            ...   \n",
       "6995       False   False  False   False       False          False   \n",
       "6996       False   False  False   False       False          False   \n",
       "6997       False   False  False   False       False          False   \n",
       "6998       False   False  False   False       False          False   \n",
       "6999       False   False  False   False       False          False   \n",
       "\n",
       "      Writing Score  Class Performance  \n",
       "0             False              False  \n",
       "1             False              False  \n",
       "2             False              False  \n",
       "3             False              False  \n",
       "4             False              False  \n",
       "...             ...                ...  \n",
       "6995          False              False  \n",
       "6996          False              False  \n",
       "6997          False              False  \n",
       "6998          False              False  \n",
       "6999          False              False  \n",
       "\n",
       "[7000 rows x 8 columns]"
      ]
     },
     "execution_count": 3,
     "metadata": {},
     "output_type": "execute_result"
    }
   ],
   "source": [
    "df.isnull()"
   ]
  },
  {
   "cell_type": "code",
   "execution_count": 4,
   "id": "c36c47b4-0909-44ab-96c5-2757cd3c91ed",
   "metadata": {},
   "outputs": [
    {
     "data": {
      "text/plain": [
       "Student ID             0\n",
       "Gender                 0\n",
       "Age                    0\n",
       "School                 0\n",
       "Math Score           358\n",
       "Reading Score        345\n",
       "Writing Score        337\n",
       "Class Performance      0\n",
       "dtype: int64"
      ]
     },
     "execution_count": 4,
     "metadata": {},
     "output_type": "execute_result"
    }
   ],
   "source": [
    "df.isnull().sum()"
   ]
  },
  {
   "cell_type": "code",
   "execution_count": 5,
   "id": "af7106fd-83cb-46b5-910b-638c19145981",
   "metadata": {},
   "outputs": [
    {
     "data": {
      "text/plain": [
       "1040"
      ]
     },
     "execution_count": 5,
     "metadata": {},
     "output_type": "execute_result"
    }
   ],
   "source": [
    "df.isnull().sum().sum()"
   ]
  },
  {
   "cell_type": "code",
   "execution_count": 6,
   "id": "36a75a91-3216-4aab-a336-14e023d9bdb1",
   "metadata": {},
   "outputs": [
    {
     "data": {
      "text/plain": [
       "Student ID             int64\n",
       "Gender                object\n",
       "Age                    int64\n",
       "School                object\n",
       "Math Score           float64\n",
       "Reading Score        float64\n",
       "Writing Score        float64\n",
       "Class Performance     object\n",
       "dtype: object"
      ]
     },
     "execution_count": 6,
     "metadata": {},
     "output_type": "execute_result"
    }
   ],
   "source": [
    "df.dtypes"
   ]
  },
  {
   "cell_type": "code",
   "execution_count": 7,
   "id": "b41f23d2-c284-477e-801b-72239ef7733e",
   "metadata": {},
   "outputs": [],
   "source": [
    "df['Age'] = df['Age'].astype('float')"
   ]
  },
  {
   "cell_type": "code",
   "execution_count": 8,
   "id": "f89f6e5f-75d9-4f73-ad62-68cc3922d112",
   "metadata": {},
   "outputs": [
    {
     "data": {
      "text/plain": [
       "Student ID             int64\n",
       "Gender                object\n",
       "Age                  float64\n",
       "School                object\n",
       "Math Score           float64\n",
       "Reading Score        float64\n",
       "Writing Score        float64\n",
       "Class Performance     object\n",
       "dtype: object"
      ]
     },
     "execution_count": 8,
     "metadata": {},
     "output_type": "execute_result"
    }
   ],
   "source": [
    "df.dtypes"
   ]
  },
  {
   "cell_type": "code",
   "execution_count": 9,
   "id": "0326972f-c21a-470e-a80a-353ced05e340",
   "metadata": {},
   "outputs": [],
   "source": [
    "df['Age'] = df['Age'].astype('int64')"
   ]
  },
  {
   "cell_type": "code",
   "execution_count": 10,
   "id": "4bb97f8a-abe6-46f9-b4e3-2781aff8832b",
   "metadata": {},
   "outputs": [
    {
     "data": {
      "text/plain": [
       "Student ID             int64\n",
       "Gender                object\n",
       "Age                    int64\n",
       "School                object\n",
       "Math Score           float64\n",
       "Reading Score        float64\n",
       "Writing Score        float64\n",
       "Class Performance     object\n",
       "dtype: object"
      ]
     },
     "execution_count": 10,
     "metadata": {},
     "output_type": "execute_result"
    }
   ],
   "source": [
    "df.dtypes"
   ]
  },
  {
   "cell_type": "code",
   "execution_count": 11,
   "id": "73048fa4-fbcf-4afb-83ce-868734433c2f",
   "metadata": {},
   "outputs": [
    {
     "data": {
      "text/html": [
       "<div>\n",
       "<style scoped>\n",
       "    .dataframe tbody tr th:only-of-type {\n",
       "        vertical-align: middle;\n",
       "    }\n",
       "\n",
       "    .dataframe tbody tr th {\n",
       "        vertical-align: top;\n",
       "    }\n",
       "\n",
       "    .dataframe thead th {\n",
       "        text-align: right;\n",
       "    }\n",
       "</style>\n",
       "<table border=\"1\" class=\"dataframe\">\n",
       "  <thead>\n",
       "    <tr style=\"text-align: right;\">\n",
       "      <th></th>\n",
       "      <th>Student ID</th>\n",
       "      <th>Gender</th>\n",
       "      <th>Age</th>\n",
       "      <th>School</th>\n",
       "      <th>Math Score</th>\n",
       "      <th>Reading Score</th>\n",
       "      <th>Writing Score</th>\n",
       "      <th>Class Performance</th>\n",
       "    </tr>\n",
       "  </thead>\n",
       "  <tbody>\n",
       "    <tr>\n",
       "      <th>0</th>\n",
       "      <td>1</td>\n",
       "      <td>Male</td>\n",
       "      <td>18</td>\n",
       "      <td>C</td>\n",
       "      <td>99.0</td>\n",
       "      <td>94.0</td>\n",
       "      <td>98.0</td>\n",
       "      <td>C</td>\n",
       "    </tr>\n",
       "    <tr>\n",
       "      <th>1</th>\n",
       "      <td>2</td>\n",
       "      <td>Male</td>\n",
       "      <td>17</td>\n",
       "      <td>D</td>\n",
       "      <td>78.0</td>\n",
       "      <td>61.0</td>\n",
       "      <td>98.0</td>\n",
       "      <td>B</td>\n",
       "    </tr>\n",
       "    <tr>\n",
       "      <th>2</th>\n",
       "      <td>3</td>\n",
       "      <td>Female</td>\n",
       "      <td>21</td>\n",
       "      <td>B</td>\n",
       "      <td>67.0</td>\n",
       "      <td>95.0</td>\n",
       "      <td>78.0</td>\n",
       "      <td>A</td>\n",
       "    </tr>\n",
       "    <tr>\n",
       "      <th>3</th>\n",
       "      <td>4</td>\n",
       "      <td>Female</td>\n",
       "      <td>20</td>\n",
       "      <td>E</td>\n",
       "      <td>67.0</td>\n",
       "      <td>67.0</td>\n",
       "      <td>86.0</td>\n",
       "      <td>C</td>\n",
       "    </tr>\n",
       "    <tr>\n",
       "      <th>4</th>\n",
       "      <td>5</td>\n",
       "      <td>Female</td>\n",
       "      <td>20</td>\n",
       "      <td>B</td>\n",
       "      <td>66.0</td>\n",
       "      <td>81.0</td>\n",
       "      <td>74.0</td>\n",
       "      <td>B</td>\n",
       "    </tr>\n",
       "  </tbody>\n",
       "</table>\n",
       "</div>"
      ],
      "text/plain": [
       "   Student ID  Gender  Age School  Math Score  Reading Score  Writing Score  \\\n",
       "0           1    Male   18      C        99.0           94.0           98.0   \n",
       "1           2    Male   17      D        78.0           61.0           98.0   \n",
       "2           3  Female   21      B        67.0           95.0           78.0   \n",
       "3           4  Female   20      E        67.0           67.0           86.0   \n",
       "4           5  Female   20      B        66.0           81.0           74.0   \n",
       "\n",
       "  Class Performance  \n",
       "0                 C  \n",
       "1                 B  \n",
       "2                 A  \n",
       "3                 C  \n",
       "4                 B  "
      ]
     },
     "execution_count": 11,
     "metadata": {},
     "output_type": "execute_result"
    }
   ],
   "source": [
    "df.head()"
   ]
  },
  {
   "cell_type": "code",
   "execution_count": 12,
   "id": "c10f4161-8e88-4ba3-88eb-79672ff51e3d",
   "metadata": {},
   "outputs": [
    {
     "data": {
      "text/html": [
       "<div>\n",
       "<style scoped>\n",
       "    .dataframe tbody tr th:only-of-type {\n",
       "        vertical-align: middle;\n",
       "    }\n",
       "\n",
       "    .dataframe tbody tr th {\n",
       "        vertical-align: top;\n",
       "    }\n",
       "\n",
       "    .dataframe thead th {\n",
       "        text-align: right;\n",
       "    }\n",
       "</style>\n",
       "<table border=\"1\" class=\"dataframe\">\n",
       "  <thead>\n",
       "    <tr style=\"text-align: right;\">\n",
       "      <th></th>\n",
       "      <th>Student ID</th>\n",
       "      <th>Gender</th>\n",
       "      <th>Age</th>\n",
       "      <th>School</th>\n",
       "      <th>Math Score</th>\n",
       "      <th>Reading Score</th>\n",
       "      <th>Writing Score</th>\n",
       "      <th>Class Performance</th>\n",
       "    </tr>\n",
       "  </thead>\n",
       "  <tbody>\n",
       "    <tr>\n",
       "      <th>6995</th>\n",
       "      <td>6996</td>\n",
       "      <td>Female</td>\n",
       "      <td>17</td>\n",
       "      <td>C</td>\n",
       "      <td>69.0</td>\n",
       "      <td>72.0</td>\n",
       "      <td>80.0</td>\n",
       "      <td>C</td>\n",
       "    </tr>\n",
       "    <tr>\n",
       "      <th>6996</th>\n",
       "      <td>6997</td>\n",
       "      <td>Female</td>\n",
       "      <td>21</td>\n",
       "      <td>E</td>\n",
       "      <td>70.0</td>\n",
       "      <td>79.0</td>\n",
       "      <td>100.0</td>\n",
       "      <td>C</td>\n",
       "    </tr>\n",
       "    <tr>\n",
       "      <th>6997</th>\n",
       "      <td>6998</td>\n",
       "      <td>Male</td>\n",
       "      <td>21</td>\n",
       "      <td>C</td>\n",
       "      <td>80.0</td>\n",
       "      <td>79.0</td>\n",
       "      <td>78.0</td>\n",
       "      <td>B</td>\n",
       "    </tr>\n",
       "    <tr>\n",
       "      <th>6998</th>\n",
       "      <td>6999</td>\n",
       "      <td>Male</td>\n",
       "      <td>20</td>\n",
       "      <td>A</td>\n",
       "      <td>74.0</td>\n",
       "      <td>80.0</td>\n",
       "      <td>68.0</td>\n",
       "      <td>A</td>\n",
       "    </tr>\n",
       "    <tr>\n",
       "      <th>6999</th>\n",
       "      <td>7000</td>\n",
       "      <td>Male</td>\n",
       "      <td>18</td>\n",
       "      <td>D</td>\n",
       "      <td>60.0</td>\n",
       "      <td>100.0</td>\n",
       "      <td>81.0</td>\n",
       "      <td>A</td>\n",
       "    </tr>\n",
       "  </tbody>\n",
       "</table>\n",
       "</div>"
      ],
      "text/plain": [
       "      Student ID  Gender  Age School  Math Score  Reading Score  \\\n",
       "6995        6996  Female   17      C        69.0           72.0   \n",
       "6996        6997  Female   21      E        70.0           79.0   \n",
       "6997        6998    Male   21      C        80.0           79.0   \n",
       "6998        6999    Male   20      A        74.0           80.0   \n",
       "6999        7000    Male   18      D        60.0          100.0   \n",
       "\n",
       "      Writing Score Class Performance  \n",
       "6995           80.0                 C  \n",
       "6996          100.0                 C  \n",
       "6997           78.0                 B  \n",
       "6998           68.0                 A  \n",
       "6999           81.0                 A  "
      ]
     },
     "execution_count": 12,
     "metadata": {},
     "output_type": "execute_result"
    }
   ],
   "source": [
    "df.tail()"
   ]
  },
  {
   "cell_type": "code",
   "execution_count": 13,
   "id": "14f28bb2-d8a4-459b-845c-954a6f14ad61",
   "metadata": {},
   "outputs": [
    {
     "name": "stdout",
     "output_type": "stream",
     "text": [
      "<class 'pandas.core.frame.DataFrame'>\n",
      "RangeIndex: 7000 entries, 0 to 6999\n",
      "Data columns (total 8 columns):\n",
      " #   Column             Non-Null Count  Dtype  \n",
      "---  ------             --------------  -----  \n",
      " 0   Student ID         7000 non-null   int64  \n",
      " 1   Gender             7000 non-null   object \n",
      " 2   Age                7000 non-null   int64  \n",
      " 3   School             7000 non-null   object \n",
      " 4   Math Score         6642 non-null   float64\n",
      " 5   Reading Score      6655 non-null   float64\n",
      " 6   Writing Score      6663 non-null   float64\n",
      " 7   Class Performance  7000 non-null   object \n",
      "dtypes: float64(3), int64(2), object(3)\n",
      "memory usage: 437.6+ KB\n"
     ]
    }
   ],
   "source": [
    "df.info()"
   ]
  },
  {
   "cell_type": "code",
   "execution_count": 14,
   "id": "6849ab97-6556-4f10-9be5-6d5b0110dfc3",
   "metadata": {},
   "outputs": [
    {
     "data": {
      "text/plain": [
       "(7000, 8)"
      ]
     },
     "execution_count": 14,
     "metadata": {},
     "output_type": "execute_result"
    }
   ],
   "source": [
    "df.shape"
   ]
  },
  {
   "cell_type": "code",
   "execution_count": 15,
   "id": "9d43ba2e-c68f-4587-9e77-ff01011a21ed",
   "metadata": {},
   "outputs": [],
   "source": [
    "def min_max_normalize(\n",
    "    name: str\n",
    "):\n",
    "    df[ name ] = (df[ name ] - df[ name ].min()) / ( df[ name ].max() - df[ name ].min() )"
   ]
  },
  {
   "cell_type": "code",
   "execution_count": 16,
   "id": "65e184d1-9a75-4ca4-a235-4b3c02dd79db",
   "metadata": {},
   "outputs": [
    {
     "data": {
      "text/html": [
       "<div>\n",
       "<style scoped>\n",
       "    .dataframe tbody tr th:only-of-type {\n",
       "        vertical-align: middle;\n",
       "    }\n",
       "\n",
       "    .dataframe tbody tr th {\n",
       "        vertical-align: top;\n",
       "    }\n",
       "\n",
       "    .dataframe thead th {\n",
       "        text-align: right;\n",
       "    }\n",
       "</style>\n",
       "<table border=\"1\" class=\"dataframe\">\n",
       "  <thead>\n",
       "    <tr style=\"text-align: right;\">\n",
       "      <th></th>\n",
       "      <th>Student ID</th>\n",
       "      <th>Age</th>\n",
       "      <th>Math Score</th>\n",
       "      <th>Reading Score</th>\n",
       "      <th>Writing Score</th>\n",
       "    </tr>\n",
       "  </thead>\n",
       "  <tbody>\n",
       "    <tr>\n",
       "      <th>count</th>\n",
       "      <td>7000.000000</td>\n",
       "      <td>7000.000000</td>\n",
       "      <td>6642.000000</td>\n",
       "      <td>6655.000000</td>\n",
       "      <td>6663.000000</td>\n",
       "    </tr>\n",
       "    <tr>\n",
       "      <th>mean</th>\n",
       "      <td>3500.500000</td>\n",
       "      <td>19.006286</td>\n",
       "      <td>80.463264</td>\n",
       "      <td>80.598648</td>\n",
       "      <td>80.293862</td>\n",
       "    </tr>\n",
       "    <tr>\n",
       "      <th>std</th>\n",
       "      <td>2020.870275</td>\n",
       "      <td>1.411874</td>\n",
       "      <td>13.153499</td>\n",
       "      <td>12.973563</td>\n",
       "      <td>12.746946</td>\n",
       "    </tr>\n",
       "    <tr>\n",
       "      <th>min</th>\n",
       "      <td>1.000000</td>\n",
       "      <td>17.000000</td>\n",
       "      <td>60.000000</td>\n",
       "      <td>60.000000</td>\n",
       "      <td>60.000000</td>\n",
       "    </tr>\n",
       "    <tr>\n",
       "      <th>25%</th>\n",
       "      <td>1750.750000</td>\n",
       "      <td>18.000000</td>\n",
       "      <td>70.000000</td>\n",
       "      <td>70.000000</td>\n",
       "      <td>70.000000</td>\n",
       "    </tr>\n",
       "    <tr>\n",
       "      <th>50%</th>\n",
       "      <td>3500.500000</td>\n",
       "      <td>19.000000</td>\n",
       "      <td>80.000000</td>\n",
       "      <td>80.000000</td>\n",
       "      <td>80.000000</td>\n",
       "    </tr>\n",
       "    <tr>\n",
       "      <th>75%</th>\n",
       "      <td>5250.250000</td>\n",
       "      <td>20.000000</td>\n",
       "      <td>91.000000</td>\n",
       "      <td>91.000000</td>\n",
       "      <td>90.000000</td>\n",
       "    </tr>\n",
       "    <tr>\n",
       "      <th>max</th>\n",
       "      <td>7000.000000</td>\n",
       "      <td>21.000000</td>\n",
       "      <td>150.000000</td>\n",
       "      <td>150.000000</td>\n",
       "      <td>149.000000</td>\n",
       "    </tr>\n",
       "  </tbody>\n",
       "</table>\n",
       "</div>"
      ],
      "text/plain": [
       "        Student ID          Age   Math Score  Reading Score  Writing Score\n",
       "count  7000.000000  7000.000000  6642.000000    6655.000000    6663.000000\n",
       "mean   3500.500000    19.006286    80.463264      80.598648      80.293862\n",
       "std    2020.870275     1.411874    13.153499      12.973563      12.746946\n",
       "min       1.000000    17.000000    60.000000      60.000000      60.000000\n",
       "25%    1750.750000    18.000000    70.000000      70.000000      70.000000\n",
       "50%    3500.500000    19.000000    80.000000      80.000000      80.000000\n",
       "75%    5250.250000    20.000000    91.000000      91.000000      90.000000\n",
       "max    7000.000000    21.000000   150.000000     150.000000     149.000000"
      ]
     },
     "execution_count": 16,
     "metadata": {},
     "output_type": "execute_result"
    }
   ],
   "source": [
    "df.describe()"
   ]
  },
  {
   "cell_type": "code",
   "execution_count": 17,
   "id": "1c285ffe-4fb4-4cba-baf6-f905e5c51684",
   "metadata": {},
   "outputs": [
    {
     "data": {
      "text/plain": [
       "(7000, 8)"
      ]
     },
     "execution_count": 17,
     "metadata": {},
     "output_type": "execute_result"
    }
   ],
   "source": [
    "df.shape"
   ]
  },
  {
   "cell_type": "code",
   "execution_count": 18,
   "id": "dbf77ac9-3c12-48b5-ba8c-6a059e50c66b",
   "metadata": {},
   "outputs": [
    {
     "data": {
      "text/plain": [
       "Student ID           7000\n",
       "Gender               7000\n",
       "Age                  7000\n",
       "School               7000\n",
       "Math Score           6642\n",
       "Reading Score        6655\n",
       "Writing Score        6663\n",
       "Class Performance    7000\n",
       "dtype: int64"
      ]
     },
     "execution_count": 18,
     "metadata": {},
     "output_type": "execute_result"
    }
   ],
   "source": [
    "df.count()"
   ]
  },
  {
   "cell_type": "code",
   "execution_count": 19,
   "id": "11e5a0fb-a00b-48d2-9631-a8c1070f803a",
   "metadata": {},
   "outputs": [
    {
     "data": {
      "text/plain": [
       "0         Male\n",
       "1         Male\n",
       "2       Female\n",
       "3       Female\n",
       "4       Female\n",
       "         ...  \n",
       "6995    Female\n",
       "6996    Female\n",
       "6997      Male\n",
       "6998      Male\n",
       "6999      Male\n",
       "Name: Gender, Length: 7000, dtype: object"
      ]
     },
     "execution_count": 19,
     "metadata": {},
     "output_type": "execute_result"
    }
   ],
   "source": [
    "df[\"Gender\"]"
   ]
  },
  {
   "cell_type": "code",
   "execution_count": 20,
   "id": "9c26616e-2448-48c4-9189-90831a3910ca",
   "metadata": {},
   "outputs": [
    {
     "data": {
      "text/plain": [
       "Age\n",
       "18    1455\n",
       "21    1425\n",
       "19    1397\n",
       "20    1365\n",
       "17    1358\n",
       "Name: count, dtype: int64"
      ]
     },
     "execution_count": 20,
     "metadata": {},
     "output_type": "execute_result"
    }
   ],
   "source": [
    "df['Age'].value_counts()"
   ]
  },
  {
   "cell_type": "code",
   "execution_count": 21,
   "id": "339225ef-f981-4d6e-8d34-452ed4941f6b",
   "metadata": {},
   "outputs": [
    {
     "data": {
      "text/plain": [
       "array(['Male', 'Female'], dtype=object)"
      ]
     },
     "execution_count": 21,
     "metadata": {},
     "output_type": "execute_result"
    }
   ],
   "source": [
    "df['Gender'].unique()"
   ]
  },
  {
   "cell_type": "code",
   "execution_count": 22,
   "id": "5e632b06-51da-4f63-b90d-6842136cb9a0",
   "metadata": {},
   "outputs": [],
   "source": [
    "def min_max_normalize(\n",
    "    name: str\n",
    "):\n",
    "    df[ name ] = (df[ name ] - df[ name ].min()) / ( df[ name ].max() - df[ name ].min() )\n"
   ]
  },
  {
   "cell_type": "code",
   "execution_count": 23,
   "id": "501a22f9-39bc-4230-8834-3564679172b6",
   "metadata": {},
   "outputs": [],
   "source": [
    "min_max_normalize( \"Age\" )"
   ]
  },
  {
   "cell_type": "code",
   "execution_count": 24,
   "id": "01ca93d0-524a-45b3-b35d-1a5f19da9c25",
   "metadata": {},
   "outputs": [
    {
     "data": {
      "text/plain": [
       "0       0.25\n",
       "1       0.00\n",
       "2       1.00\n",
       "3       0.75\n",
       "4       0.75\n",
       "        ... \n",
       "6995    0.00\n",
       "6996    1.00\n",
       "6997    1.00\n",
       "6998    0.75\n",
       "6999    0.25\n",
       "Name: Age, Length: 7000, dtype: float64"
      ]
     },
     "execution_count": 24,
     "metadata": {},
     "output_type": "execute_result"
    }
   ],
   "source": [
    "df[\"Age\"]"
   ]
  },
  {
   "cell_type": "code",
   "execution_count": 25,
   "id": "d83af174-6a83-4e3d-a609-b9be0e7c5c56",
   "metadata": {},
   "outputs": [],
   "source": [
    "df.loc[ df.Gender == \"Male\" , \"Gender\" ] = 0\n",
    "df.loc[ df.Gender == \"Female\" , \"Gender\" ] = 1"
   ]
  },
  {
   "cell_type": "code",
   "execution_count": 26,
   "id": "b41876cc-dded-4aca-b3b8-862efd4393d7",
   "metadata": {},
   "outputs": [
    {
     "data": {
      "text/plain": [
       "0       0\n",
       "1       0\n",
       "2       1\n",
       "3       1\n",
       "4       1\n",
       "       ..\n",
       "6995    1\n",
       "6996    1\n",
       "6997    0\n",
       "6998    0\n",
       "6999    0\n",
       "Name: Gender, Length: 7000, dtype: object"
      ]
     },
     "execution_count": 26,
     "metadata": {},
     "output_type": "execute_result"
    }
   ],
   "source": [
    "df[\"Gender\"]"
   ]
  },
  {
   "cell_type": "code",
   "execution_count": 27,
   "id": "e1cf4553-549a-497f-bee8-f18307f82f4f",
   "metadata": {},
   "outputs": [],
   "source": [
    "from sklearn.preprocessing import LabelEncoder\n",
    "label_encoder = LabelEncoder()\n",
    "df['School'] = label_encoder.fit_transform(df['School'])"
   ]
  },
  {
   "cell_type": "code",
   "execution_count": 28,
   "id": "657ffd08-b8b1-48e3-813c-453399a03dd6",
   "metadata": {},
   "outputs": [
    {
     "data": {
      "text/plain": [
       "0       2\n",
       "1       3\n",
       "2       1\n",
       "3       4\n",
       "4       1\n",
       "       ..\n",
       "6995    2\n",
       "6996    4\n",
       "6997    2\n",
       "6998    0\n",
       "6999    3\n",
       "Name: School, Length: 7000, dtype: int32"
      ]
     },
     "execution_count": 28,
     "metadata": {},
     "output_type": "execute_result"
    }
   ],
   "source": [
    "df[\"School\"]"
   ]
  }
 ],
 "metadata": {
  "kernelspec": {
   "display_name": "Python 3 (ipykernel)",
   "language": "python",
   "name": "python3"
  },
  "language_info": {
   "codemirror_mode": {
    "name": "ipython",
    "version": 3
   },
   "file_extension": ".py",
   "mimetype": "text/x-python",
   "name": "python",
   "nbconvert_exporter": "python",
   "pygments_lexer": "ipython3",
   "version": "3.8.10"
  }
 },
 "nbformat": 4,
 "nbformat_minor": 5
}
